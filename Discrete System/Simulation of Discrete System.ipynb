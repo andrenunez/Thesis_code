{
 "cells": [
  {
   "cell_type": "code",
   "execution_count": 58,
   "metadata": {},
   "outputs": [],
   "source": [
    "import sympy\n",
    "import math\n",
    "import numpy as np\n",
    "import matplotlib.pyplot as plt\n",
    "num = 100"
   ]
  },
  {
   "cell_type": "code",
   "execution_count": 60,
   "metadata": {},
   "outputs": [],
   "source": [
    "# Define a_{i},b_{i} and traits#\n",
    "\n",
    "avars = [a for a in range(1,num+1)]\n",
    "bvars = [b for b in range(1,num+1)]\n",
    "traits = [c for c in range(1,num+1)]"
   ]
  },
  {
   "cell_type": "markdown",
   "metadata": {},
   "source": [
    "# Numeric Way #"
   ]
  },
  {
   "cell_type": "code",
   "execution_count": 63,
   "metadata": {},
   "outputs": [
    {
     "name": "stdout",
     "output_type": "stream",
     "text": [
      "0.9999999999999999\n"
     ]
    },
    {
     "data": {
      "image/png": "[encoded data removed]",
      "text/plain": [
       "<Figure size 1440x720 with 1 Axes>"
      ]
     },
     "metadata": {
      "needs_background": "light"
     },
     "output_type": "display_data"
    }
   ],
   "source": [
    "# Create a dictionary to contain each term in the recurrence #\n",
    "exprs = {}\n",
    "for k in traits:\n",
    "    exprs[k] = []\n",
    "    \n",
    "# Create list which will update u_{i} each time we iterate #\n",
    "u = [1/num for l in range(1,num+1)]\n",
    "\n",
    "\n",
    "# Function that updates the values of u_{i} by continuously applying f(u) to itself\n",
    "def iterate(expr,u,denom):\n",
    "    \n",
    "    aterms = [avars[m-1]*u[m-1] for m in traits]\n",
    "    bterms = [bvars[m-1]*u[m-1] for m in traits]\n",
    "    denom = sum(aterms)*sum(bterms)\n",
    "    \n",
    "    expr = {}\n",
    "    for k in traits:\n",
    "        expr[k] = []\n",
    "        \n",
    "    for i in traits:\n",
    "        for j in traits:\n",
    "            if (i+j)/2 in traits:\n",
    "                expr[int((i+j)/2)].append(avars[i-1]*u[i-1]*bvars[j-1]*u[j-1])\n",
    "\n",
    "            if math.floor((i+j)/2) in traits and not ((i+j)/2).is_integer():\n",
    "                expr[math.floor((i+j)/2)].append(0.5*avars[i-1]*u[i-1]*bvars[j-1]*u[j-1])\n",
    "\n",
    "            if math.ceil((i+j)/2) in traits and not ((i+j)/2).is_integer():\n",
    "                expr[math.ceil((i+j)/2)].append(0.5*avars[i-1]*u[i-1]*bvars[j-1]*u[j-1])\n",
    "    \n",
    "    for x in range(len(u)):\n",
    "        u[x] = sum(expr[x+1])/denom\n",
    "        \n",
    "for i in range(100):\n",
    "    iterate(exprs,u,denom)\n",
    "    \n",
    "    \n",
    "# Plotting the simulation #\n",
    "\n",
    "fig2 = plt.figure(figsize=(20,10))\n",
    "plt.xlabel(\"Trait $i$\")\n",
    "plt.ylabel(\"Population of trait $i$ (% of Total Population)\")\n",
    "plt.title(\"Population of trait $i$ at $t = 100$, with parameters $a_{i} = i,b_{i} = i$\")\n",
    "plt.plot([i for i in range(1,num+1)],u,color = 'red',marker = 'o')\n",
    "plt.grid('True')\n",
    "plt.axis([0,num+1,-0.01,1])\n",
    "plt.show()\n",
    "fig2.savefig(\"Simulation100.png\")\n",
    "\n",
    "            "
   ]
  },
  {
   "cell_type": "markdown",
   "metadata": {},
   "source": [
    "# Symbolic Way #"
   ]
  },
  {
   "cell_type": "code",
   "execution_count": 89,
   "metadata": {},
   "outputs": [],
   "source": [
    "avars = [sympy.Symbol('a'+str(a)) for a in range(1,num+1)]\n",
    "bvars = [sympy.Symbol('b'+str(b)) for b in range(1,num+1)]\n",
    "traits = [c for c in range(1,num+1)]\n",
    "\n",
    "exprs = {}\n",
    "for k in traits:\n",
    "    exprs[k] = []\n",
    "    \n",
    "u = [sympy.Symbol('u'+str(l)) for l in range(1,num+1)]"
   ]
  },
  {
   "cell_type": "code",
   "execution_count": 90,
   "metadata": {},
   "outputs": [
    {
     "name": "stdout",
     "output_type": "stream",
     "text": [
      "[a1*b1*u1**2, 0.5*a1*b2*u1*u2, 0.5*a2*b1*u1*u2]\n",
      "[0.5*a1*b2*u1*u2, 0.5*a2*b1*u1*u2, a2*b2*u2**2]\n"
     ]
    }
   ],
   "source": [
    "for i in traits:\n",
    "    for j in traits:\n",
    "        if (i+j)/2 in traits:\n",
    "            exprs[int((i+j)/2)].append(avars[i-1]*u[i-1]*bvars[i-1]*u[i-1])\n",
    "            \n",
    "        if math.floor((i+j)/2) in traits and not ((i+j)/2).is_integer():\n",
    "            exprs[math.floor((i+j)/2)].append(0.5*avars[i-1]*u[i-1]*bvars[j-1]*u[j-1])\n",
    "            \n",
    "        if math.ceil((i+j)/2) in traits and not ((i+j)/2).is_integer():\n",
    "            exprs[math.ceil((i+j)/2)].append(0.5*avars[i-1]*u[i-1]*bvars[j-1]*u[j-1])\n",
    "\n",
    "for i in exprs:\n",
    "    print(exprs[i])\n",
    "    \n",
    "### If needed, finish this ####"
   ]
  }
 ],
 "metadata": {
  "kernelspec": {
   "display_name": "Python 3",
   "language": "python",
   "name": "python3"
  },
  "language_info": {
   "codemirror_mode": {
    "name": "ipython",
    "version": 3
   },
   "file_extension": ".py",
   "mimetype": "text/x-python",
   "name": "python",
   "nbconvert_exporter": "python",
   "pygments_lexer": "ipython3",
   "version": "3.8.3"
  }
 },
 "nbformat": 4,
 "nbformat_minor": 4
}
